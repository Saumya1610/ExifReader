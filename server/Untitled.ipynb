{
 "cells": [
  {
   "cell_type": "code",
   "execution_count": 2,
   "id": "f155925d",
   "metadata": {},
   "outputs": [
    {
     "name": "stdout",
     "output_type": "stream",
     "text": [
      "Requirement already satisfied: pillow in c:\\users\\lenovo\\anaconda3\\lib\\site-packages (9.4.0)\n",
      "Note: you may need to restart the kernel to use updated packages.\n"
     ]
    }
   ],
   "source": [
    "pip install pillow"
   ]
  },
  {
   "cell_type": "code",
   "execution_count": 3,
   "id": "62c030db",
   "metadata": {},
   "outputs": [
    {
     "name": "stdout",
     "output_type": "stream",
     "text": [
      "Collecting exifread\n",
      "  Downloading ExifRead-3.0.0-py3-none-any.whl (40 kB)\n",
      "     ---------------------------------------- 0.0/40.4 kB ? eta -:--:--\n",
      "     ---------------------------------------- 0.0/40.4 kB ? eta -:--:--\n",
      "     ---------- ----------------------------- 10.2/40.4 kB ? eta -:--:--\n",
      "     ---------- ----------------------------- 10.2/40.4 kB ? eta -:--:--\n",
      "     ---------- ----------------------------- 10.2/40.4 kB ? eta -:--:--\n",
      "     ---------- ----------------------------- 10.2/40.4 kB ? eta -:--:--\n",
      "     ---------- ----------------------------- 10.2/40.4 kB ? eta -:--:--\n",
      "     ---------- ----------------------------- 10.2/40.4 kB ? eta -:--:--\n",
      "     ---------- ----------------------------- 10.2/40.4 kB ? eta -:--:--\n",
      "     ------------------- ------------------- 20.5/40.4 kB 28.4 kB/s eta 0:00:01\n",
      "     ------------------- ------------------- 20.5/40.4 kB 28.4 kB/s eta 0:00:01\n",
      "     ------------------- ------------------- 20.5/40.4 kB 28.4 kB/s eta 0:00:01\n",
      "     --------------------------------------- 40.4/40.4 kB 60.4 kB/s eta 0:00:00\n",
      "Installing collected packages: exifread\n",
      "Successfully installed exifread-3.0.0\n",
      "Note: you may need to restart the kernel to use updated packages.\n"
     ]
    }
   ],
   "source": [
    "pip install exifread"
   ]
  },
  {
   "cell_type": "code",
   "execution_count": 24,
   "id": "9d63230c",
   "metadata": {
    "scrolled": true
   },
   "outputs": [
    {
     "name": "stderr",
     "output_type": "stream",
     "text": [
      "File format not recognized.\n"
     ]
    },
    {
     "ename": "KeyError",
     "evalue": "'Image Make'",
     "output_type": "error",
     "traceback": [
      "\u001b[1;31m---------------------------------------------------------------------------\u001b[0m",
      "\u001b[1;31mKeyError\u001b[0m                                  Traceback (most recent call last)",
      "Cell \u001b[1;32mIn[24], line 6\u001b[0m\n\u001b[0;32m      4\u001b[0m \u001b[38;5;28;01mfor\u001b[39;00m k, v \u001b[38;5;129;01min\u001b[39;00m tags\u001b[38;5;241m.\u001b[39mitems():\n\u001b[0;32m      5\u001b[0m     \u001b[38;5;28mprint\u001b[39m (k, v)\n\u001b[1;32m----> 6\u001b[0m make \u001b[38;5;241m=\u001b[39m tags [\u001b[38;5;124m'\u001b[39m\u001b[38;5;124mImage Make\u001b[39m\u001b[38;5;124m'\u001b[39m]\n\u001b[0;32m      7\u001b[0m model \u001b[38;5;241m=\u001b[39m tags[\u001b[38;5;124m'\u001b[39m\u001b[38;5;124mImage Model\u001b[39m\u001b[38;5;124m'\u001b[39m]\n\u001b[0;32m      8\u001b[0m \u001b[38;5;66;03m#orig_date= tags ['EXIF DateTimeOriginal']\u001b[39;00m\n",
      "\u001b[1;31mKeyError\u001b[0m: 'Image Make'"
     ]
    }
   ],
   "source": [
    "import exifread\n",
    "f = open(\"img1.CR3\", 'rb')\n",
    "tags = exifread.process_file(f,details=False)\n",
    "for k, v in tags.items():\n",
    "    print (k, v)\n",
    "make = tags ['Image Make']\n",
    "model = tags['Image Model']\n",
    "#orig_date= tags ['EXIF DateTimeOriginal']\n",
    "print(make, model, )"
   ]
  },
  {
   "cell_type": "code",
   "execution_count": 23,
   "id": "ac35cada",
   "metadata": {},
   "outputs": [
    {
     "name": "stderr",
     "output_type": "stream",
     "text": [
      "File format not recognized.\n"
     ]
    }
   ],
   "source": [
    "import exifread\n",
    "\n",
    "with open('img1.CR3', 'rb') as f:\n",
    "    tags = exifread.process_file(f)\n",
    "\n",
    "for tag in tags:\n",
    "    print(tag.name, tag.value)\n"
   ]
  },
  {
   "cell_type": "code",
   "execution_count": null,
   "id": "4a55d8c9",
   "metadata": {},
   "outputs": [],
   "source": []
  },
  {
   "cell_type": "code",
   "execution_count": null,
   "id": "68d08f6f",
   "metadata": {},
   "outputs": [],
   "source": []
  }
 ],
 "metadata": {
  "kernelspec": {
   "display_name": "Python 3 (ipykernel)",
   "language": "python",
   "name": "python3"
  },
  "language_info": {
   "codemirror_mode": {
    "name": "ipython",
    "version": 3
   },
   "file_extension": ".py",
   "mimetype": "text/x-python",
   "name": "python",
   "nbconvert_exporter": "python",
   "pygments_lexer": "ipython3",
   "version": "3.11.5"
  }
 },
 "nbformat": 4,
 "nbformat_minor": 5
}
