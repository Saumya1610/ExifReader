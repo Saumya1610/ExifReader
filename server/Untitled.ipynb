{
 "cells": [
  {
   "cell_type": "code",
   "execution_count": 2,
   "id": "f198423f",
   "metadata": {},
   "outputs": [
    {
     "name": "stdout",
     "output_type": "stream",
     "text": [
      "Requirement already satisfied: pillow in c:\\users\\lenovo\\anaconda3\\lib\\site-packages (9.4.0)\n",
      "Note: you may need to restart the kernel to use updated packages.\n"
     ]
    }
   ],
   "source": [
    "pip install pillow"
   ]
  },
  {
   "cell_type": "code",
   "execution_count": 3,
   "id": "31420ee7",
   "metadata": {},
   "outputs": [
    {
     "name": "stdout",
     "output_type": "stream",
     "text": [
      "Collecting exifread\n",
      "  Downloading ExifRead-3.0.0-py3-none-any.whl (40 kB)\n",
      "     ---------------------------------------- 0.0/40.4 kB ? eta -:--:--\n",
      "     ---------------------------------------- 0.0/40.4 kB ? eta -:--:--\n",
      "     ---------- ----------------------------- 10.2/40.4 kB ? eta -:--:--\n",
      "     ---------- ----------------------------- 10.2/40.4 kB ? eta -:--:--\n",
      "     ---------- ----------------------------- 10.2/40.4 kB ? eta -:--:--\n",
      "     ---------- ----------------------------- 10.2/40.4 kB ? eta -:--:--\n",
      "     ---------- ----------------------------- 10.2/40.4 kB ? eta -:--:--\n",
      "     ---------- ----------------------------- 10.2/40.4 kB ? eta -:--:--\n",
      "     ---------- ----------------------------- 10.2/40.4 kB ? eta -:--:--\n",
      "     ------------------- ------------------- 20.5/40.4 kB 28.4 kB/s eta 0:00:01\n",
      "     ------------------- ------------------- 20.5/40.4 kB 28.4 kB/s eta 0:00:01\n",
      "     ------------------- ------------------- 20.5/40.4 kB 28.4 kB/s eta 0:00:01\n",
      "     --------------------------------------- 40.4/40.4 kB 60.4 kB/s eta 0:00:00\n",
      "Installing collected packages: exifread\n",
      "Successfully installed exifread-3.0.0\n",
      "Note: you may need to restart the kernel to use updated packages.\n"
     ]
    }
   ],
   "source": [
    "pip install exifread"
   ]
  },
  {
   "cell_type": "code",
   "execution_count": 25,
   "id": "64ecd47f",
   "metadata": {
    "scrolled": true
   },
   "outputs": [
    {
     "name": "stdout",
     "output_type": "stream",
     "text": [
      "Image SubfileType Reduced-resolution image\n",
      "Image ImageWidth 160\n",
      "Image ImageLength 120\n",
      "Image BitsPerSample [8, 8, 8]\n",
      "Image Compression Uncompressed\n",
      "Image PhotometricInterpretation 2\n",
      "Image Make NIKON CORPORATION\n",
      "Image Model NIKON Z 7_2\n",
      "Image StripOffsets 244720\n",
      "Image Orientation Horizontal (normal)\n",
      "Image SamplesPerPixel 3\n",
      "Image RowsPerStrip 120\n",
      "Image StripByteCounts 57600\n",
      "Image XResolution 300\n",
      "Image YResolution 300\n",
      "Image PlanarConfiguration 1\n",
      "Image ResolutionUnit Pixels/Inch\n",
      "Image Software Ver.01.20\n",
      "Image DateTime 2021:09:22 11:42:13\n",
      "Image Artist Jim Vetter\n",
      "Image SubIFDs [302320, 302440, 303140]\n",
      "Image ReferenceBlackWhite [0, 255, 0, 255, 0, 255]\n",
      "Image Copyright Jim Vetter Photography\n",
      "Image ExifOffset 33388\n",
      "GPS GPSVersionID [2, 3, 0, 0]\n",
      "Image GPSInfo 244700\n",
      "Image DateTimeOriginal 2021:09:22 11:42:13\n",
      "Image TIFF/EPStandardID [1, 0, 0, 0]\n",
      "EXIF ExposureTime 1/125\n",
      "EXIF FNumber 63/10\n",
      "EXIF ExposureProgram Manual\n",
      "EXIF ISOSpeedRatings 3200\n",
      "EXIF SensitivityType Recommended Exposure Index\n",
      "EXIF RecommendedExposureIndex 3200\n",
      "EXIF DateTimeOriginal 2021:09:22 11:42:13\n",
      "EXIF DateTimeDigitized 2021:09:22 11:42:13\n",
      "EXIF OffsetTime -07:00\n",
      "EXIF OffsetTimeOriginal -07:00\n",
      "EXIF OffsetTimeDigitized -07:00\n",
      "EXIF ExposureBiasValue 0\n",
      "EXIF MeteringMode Spot\n",
      "EXIF LightSource Flash\n",
      "EXIF Flash Flash did not fire\n",
      "EXIF FocalLength 24\n",
      "EXIF SubSecTime 19\n",
      "EXIF SubSecTimeOriginal 19\n",
      "EXIF SubSecTimeDigitized 19\n",
      "EXIF SensingMethod One-chip color area\n",
      "EXIF FileSource Digital Camera\n",
      "EXIF SceneType Directly Photographed\n",
      "EXIF CVAPattern [2, 0, 2, 0, 0, 1, 1, 2]\n",
      "EXIF CustomRendered Custom\n",
      "EXIF ExposureMode Manual Exposure\n",
      "EXIF WhiteBalance Manual\n",
      "EXIF FocalLengthIn35mmFilm 24\n",
      "EXIF SceneCaptureType Standard\n",
      "EXIF GainControl High gain up\n",
      "EXIF Contrast Normal\n",
      "EXIF Saturation Normal\n",
      "EXIF Sharpness Normal\n",
      "EXIF SubjectDistanceRange 0\n",
      "EXIF BodySerialNumber 3000592\n",
      "EXIF LensSpecification [14, 24, 14/5, 14/5]\n",
      "EXIF LensMake \n",
      "EXIF LensModel 14-24mm f/2.8G\n",
      "EXIF LensSerialNumber \n"
     ]
    }
   ],
   "source": [
    "import exifread\n",
    "f = open(\"img2.nef\", 'rb')\n",
    "tags = exifread.process_file(f,details=False)\n",
    "for k, v in tags.items():\n",
    "    print (k, v)\n",
    "# make = tags ['Image Make']\n",
    "# model = tags['Image Model']\n",
    "# #orig_date= tags ['EXIF DateTimeOriginal']\n",
    "# print(make, model, )"
   ]
  },
  {
   "cell_type": "code",
   "execution_count": 23,
   "id": "317e4c1c",
   "metadata": {},
   "outputs": [
    {
     "name": "stderr",
     "output_type": "stream",
     "text": [
      "File format not recognized.\n"
     ]
    }
   ],
   "source": [
    "import exifread\n",
    "\n",
    "with open('img1.CR3', 'rb') as f:\n",
    "    tags = exifread.process_file(f)\n",
    "\n",
    "for tag in tags:\n",
    "    print(tag.name, tag.value)\n"
   ]
  },
  {
   "cell_type": "code",
   "execution_count": null,
   "id": "7d47fc86",
   "metadata": {},
   "outputs": [],
   "source": []
  },
  {
   "cell_type": "code",
   "execution_count": null,
   "id": "6e12ac3d",
   "metadata": {},
   "outputs": [],
   "source": []
  }
 ],
 "metadata": {
  "kernelspec": {
   "display_name": "Python 3 (ipykernel)",
   "language": "python",
   "name": "python3"
  },
  "language_info": {
   "codemirror_mode": {
    "name": "ipython",
    "version": 3
   },
   "file_extension": ".py",
   "mimetype": "text/x-python",
   "name": "python",
   "nbconvert_exporter": "python",
   "pygments_lexer": "ipython3",
   "version": "3.11.5"
  }
 },
 "nbformat": 4,
 "nbformat_minor": 5
}
